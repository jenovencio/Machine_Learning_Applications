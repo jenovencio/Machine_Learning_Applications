{
 "cells": [
  {
   "cell_type": "markdown",
   "metadata": {},
   "source": [
    "** Linear Regression **\n",
    "\n",
    "Given a set of inputs ${X}$ and a set of outputs ${Y}$, the linear regression technique tries to find for a given model the best relationship between dependent variable $y$ with independent variables $x$.\n",
    "\n",
    "** An Example**\n",
    "\n",
    "Given the dataset below try to find an linear model that predicts the output in the more accurated way. The linear model is written as\n",
    "\n",
    "$$ y_{estimation} = ax + b $$\n",
    "\n"
   ]
  },
  {
   "cell_type": "code",
   "execution_count": 33,
   "metadata": {
    "collapsed": false
   },
   "outputs": [
    {
     "data": {
      "image/png": "[encoded data removed]",
      "text/plain": [
       "<matplotlib.figure.Figure at 0x22da4cc55f8>"
      ]
     },
     "metadata": {},
     "output_type": "display_data"
    }
   ],
   "source": [
    "import numpy as np\n",
    "import matplotlib.pyplot as plt\n",
    "from ipywidgets import widgets\n",
    "from ipywidgets import *\n",
    "%matplotlib inline\n",
    "\n",
    "\n",
    "def linearmodel(x,a,b):\n",
    "    ''' evalute x in a linear model ycalc = a*x + b\n",
    "    '''\n",
    "    \n",
    "    # linear model\n",
    "    ycalc = a*x + b # creating linear model\n",
    "    return ycalc\n",
    "\n",
    "def LSE(yreal,ycalc):\n",
    "    ''' calculates the absolute error of yreal and ycalc\n",
    "    \n",
    "    '''\n",
    "    error = np.abs(ycalc-y) # absolute error vector\n",
    "    return error\n",
    "    \n",
    "    \n",
    "\n",
    "def intLiearModel(a,b):\n",
    "    # Setting mean and standard deviation\n",
    "    covXY = 35\n",
    "    mean = [10, 50]\n",
    "    np.random.seed(seed=1)\n",
    "    cov = [[30, covXY], [covXY, 50]]  # diagonal covariance \n",
    "    \n",
    "    # creating database\n",
    "    nsamples = 6 # number of samples points\n",
    "    x, y = np.random.multivariate_normal(mean, cov, nsamples).T \n",
    "\n",
    "    #plottig data\n",
    "    f, (ax1,ax2) = plt.subplots(1,2,figsize=(10,4),dpi= 80)\n",
    "    ax1.scatter(x,y)\n",
    "\n",
    "    # linear model\n",
    "    ycalc = linearmodel(x,a,b)# creating linear model    \n",
    "    ax1.plot(x,ycalc)\n",
    "    \n",
    "    # calculating error\n",
    "    error =LSE(y,ycalc) # absolute error vector\n",
    "    mabse = np.mean(error) # mean absolute error\n",
    "    \n",
    "    ax2.bar(range(nsamples),error)\n",
    "    ax2.plot(range(nsamples+1),mabse*np.ones(nsamples+1),'r--')\n",
    "    \n",
    "\n",
    "interact(intLiearModel,a=(0,5,0.5),b=(10,50,1))    \n"
   ]
  },
  {
   "cell_type": "markdown",
   "metadata": {},
   "source": [
    "In the example above, you can intercat with $a$ and $b$ parameters and try to find the smallest possible error. You may notice that is impossible to find a straight line with zero mean absolute error.\n",
    "An alternative to solve this problem is using an optimizaiton techniques in order to minimize the mean squared error. Let define the  ith error vector component $\\epsilon_i$ as:\n",
    "\n",
    "$$ \\epsilon_i = y_{estimation}(x_i) - y_{i} $$\n",
    "\n",
    "Where $y_{estimation}(x_i)$ is the output estimation for a given model parameter $a$, $b$ and $y_{i}$ is the real output.\n"
   ]
  },
  {
   "cell_type": "code",
   "execution_count": null,
   "metadata": {
    "collapsed": true
   },
   "outputs": [],
   "source": []
  }
 ],
 "metadata": {
  "kernelspec": {
   "display_name": "Python 3",
   "language": "python",
   "name": "python3"
  },
  "language_info": {
   "codemirror_mode": {
    "name": "ipython",
    "version": 3
   },
   "file_extension": ".py",
   "mimetype": "text/x-python",
   "name": "python",
   "nbconvert_exporter": "python",
   "pygments_lexer": "ipython3",
   "version": "3.5.3"
  }
 },
 "nbformat": 4,
 "nbformat_minor": 0
}
